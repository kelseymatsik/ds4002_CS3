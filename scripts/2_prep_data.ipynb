{
 "cells": [
  {
   "cell_type": "code",
   "execution_count": null,
   "metadata": {},
   "outputs": [],
   "source": [
    "import os\n",
    "import cv2\n",
    "import numpy as np\n",
    "from glob import glob\n",
    "from tqdm import tqdm\n",
    "import warnings\n",
    "import logging"
   ]
  },
  {
   "cell_type": "code",
   "execution_count": null,
   "metadata": {},
   "outputs": [],
   "source": [
    "base_path = \"/sfs/gpfs/tardis/home/kcm7zp/brain_tumor_data\"\n",
    "\n",
    "tumor_types = ['glioma', 'meningioma', 'pituitary']\n",
    "label_map = {'glioma': 1, 'meningioma': 2, 'pituitary': 3}"
   ]
  },
  {
   "cell_type": "code",
   "execution_count": null,
   "metadata": {},
   "outputs": [],
   "source": [
    "\n",
    "data = []\n",
    "\n",
    "for tumor in tumor_types:\n",
    "    img_folder = os.path.join(base_path, tumor, \"images\")\n",
    "    mask_folder = os.path.join(base_path, tumor, \"masks\")\n",
    "    \n",
    "    img_files = sorted([f for f in os.listdir(img_folder) if f.endswith(\".png\") and not f.startswith(\".\")])\n",
    "    \n",
    "    for img_file in tqdm(img_files, desc=f\"Processing {tumor}\"):\n",
    "        base_id = img_file.replace(f\"{tumor}_\", \"\").replace(\".png\", \"\")\n",
    "        mask_file = f\"{tumor}_mask_{base_id}.png\"\n",
    "        \n",
    "        img_path = os.path.join(img_folder, img_file)\n",
    "        mask_path = os.path.join(mask_folder, mask_file)\n",
    "        \n",
    "        # Read in the image and mask \n",
    "        img = cv2.imread(img_path, cv2.IMREAD_GRAYSCALE)\n",
    "        mask = cv2.imread(mask_path, cv2.IMREAD_GRAYSCALE)\n",
    "\n",
    "        if img is None or mask is None:\n",
    "            print(f\"Failed to load: {img_path} or {mask_path}\")\n",
    "            continue\n",
    "\n",
    "        # Resize to common dimensions\n",
    "        img = cv2.resize(img, (256, 256))\n",
    "        mask = cv2.resize(mask, (256, 256))\n",
    "\n",
    "        # Normalize to [0, 1]\n",
    "        img = img / 255.0\n",
    "        mask = mask / 255.0\n",
    "        \n",
    "        # Append to data list\n",
    "        data.append({\n",
    "            'image': img,\n",
    "            'mask': mask,\n",
    "            'label': label_map[tumor]\n",
    "        })\n",
    "\n",
    "print(f\"\\nTotal samples loaded: {len(data)}\")"
   ]
  },
  {
   "cell_type": "code",
   "execution_count": null,
   "metadata": {},
   "outputs": [],
   "source": [
    "# Convert to numpy arrays \n",
    "images = np.array([item['image'] for item in data])\n",
    "labels = np.array([item['label'] for item in data])\n",
    "\n",
    "# Add channel dimension for Tensorflow/Keras \n",
    "images = np.expand_dims(images, axis=-1) "
   ]
  },
  {
   "cell_type": "code",
   "execution_count": null,
   "metadata": {},
   "outputs": [],
   "source": [
    "# Train/Val/Test Split \n",
    "from sklearn.model_selection import train_test_split\n",
    "\n",
    "# First split off test\n",
    "X_trainval, X_test, y_trainval, y_test = train_test_split(images, labels, test_size=0.15, stratify=labels, random_state=3402)\n",
    "\n",
    "# Then split train and val\n",
    "X_train, X_val, y_train, y_val = train_test_split(X_trainval, y_trainval, test_size=0.15, stratify=y_trainval, random_state=3402)"
   ]
  }
 ],
 "metadata": {
  "language_info": {
   "name": "python"
  }
 },
 "nbformat": 4,
 "nbformat_minor": 2
}
